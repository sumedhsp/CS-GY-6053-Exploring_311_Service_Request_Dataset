{
 "cells": [
  {
   "cell_type": "markdown",
   "id": "0efba511-200d-436e-b05c-def5c3011d5b",
   "metadata": {},
   "source": [
    "# Exploring 311 dataset for department resource utilization"
   ]
  },
  {
   "cell_type": "markdown",
   "id": "51feb2d6-d485-44b7-9a27-880b35408eb4",
   "metadata": {},
   "source": [
    "## Sampling Validation of Agency Distribution"
   ]
  },
  {
   "cell_type": "markdown",
   "id": "21421d67-2581-4bb1-b96b-48922efc48bf",
   "metadata": {},
   "source": [
    "To validate the agency distribution for complaints, we verified the sample data by checking the distribution on the primary dataset.\n",
    "To work on the huge dataset, we split the dataset into chunks and then iterated on each chunk to calculate the distribution. Finally we aggregate the dataset to verify the distribution of the top 10 departments"
   ]
  },
  {
   "cell_type": "code",
   "execution_count": 3,
   "id": "6d19ae39-cfbc-477a-83ab-0a08189c12a5",
   "metadata": {},
   "outputs": [
    {
     "name": "stderr",
     "output_type": "stream",
     "text": [
      "C:\\Users\\sumed\\AppData\\Local\\Temp\\ipykernel_9548\\4116256254.py:7: DtypeWarning: Columns (8) have mixed types. Specify dtype option on import or set low_memory=False.\n",
      "  for i, chunk in enumerate(csv_reader):\n"
     ]
    },
    {
     "name": "stdout",
     "output_type": "stream",
     "text": [
      "Chunk 1 saved to output_chunk1.csv\n"
     ]
    },
    {
     "name": "stderr",
     "output_type": "stream",
     "text": [
      "C:\\Users\\sumed\\AppData\\Local\\Temp\\ipykernel_9548\\4116256254.py:7: DtypeWarning: Columns (8) have mixed types. Specify dtype option on import or set low_memory=False.\n",
      "  for i, chunk in enumerate(csv_reader):\n"
     ]
    },
    {
     "name": "stdout",
     "output_type": "stream",
     "text": [
      "Chunk 2 saved to output_chunk2.csv\n"
     ]
    },
    {
     "name": "stderr",
     "output_type": "stream",
     "text": [
      "C:\\Users\\sumed\\AppData\\Local\\Temp\\ipykernel_9548\\4116256254.py:7: DtypeWarning: Columns (8,31) have mixed types. Specify dtype option on import or set low_memory=False.\n",
      "  for i, chunk in enumerate(csv_reader):\n"
     ]
    },
    {
     "name": "stdout",
     "output_type": "stream",
     "text": [
      "Chunk 3 saved to output_chunk3.csv\n"
     ]
    },
    {
     "name": "stderr",
     "output_type": "stream",
     "text": [
      "C:\\Users\\sumed\\AppData\\Local\\Temp\\ipykernel_9548\\4116256254.py:7: DtypeWarning: Columns (8,31) have mixed types. Specify dtype option on import or set low_memory=False.\n",
      "  for i, chunk in enumerate(csv_reader):\n"
     ]
    },
    {
     "name": "stdout",
     "output_type": "stream",
     "text": [
      "Chunk 4 saved to output_chunk4.csv\n"
     ]
    },
    {
     "name": "stderr",
     "output_type": "stream",
     "text": [
      "C:\\Users\\sumed\\AppData\\Local\\Temp\\ipykernel_9548\\4116256254.py:7: DtypeWarning: Columns (8,31) have mixed types. Specify dtype option on import or set low_memory=False.\n",
      "  for i, chunk in enumerate(csv_reader):\n"
     ]
    },
    {
     "name": "stdout",
     "output_type": "stream",
     "text": [
      "Chunk 5 saved to output_chunk5.csv\n"
     ]
    },
    {
     "name": "stderr",
     "output_type": "stream",
     "text": [
      "C:\\Users\\sumed\\AppData\\Local\\Temp\\ipykernel_9548\\4116256254.py:7: DtypeWarning: Columns (8,31,32,34,35,36) have mixed types. Specify dtype option on import or set low_memory=False.\n",
      "  for i, chunk in enumerate(csv_reader):\n"
     ]
    },
    {
     "name": "stdout",
     "output_type": "stream",
     "text": [
      "Chunk 6 saved to output_chunk6.csv\n"
     ]
    },
    {
     "name": "stderr",
     "output_type": "stream",
     "text": [
      "C:\\Users\\sumed\\AppData\\Local\\Temp\\ipykernel_9548\\4116256254.py:7: DtypeWarning: Columns (8,31,32) have mixed types. Specify dtype option on import or set low_memory=False.\n",
      "  for i, chunk in enumerate(csv_reader):\n"
     ]
    },
    {
     "name": "stdout",
     "output_type": "stream",
     "text": [
      "Chunk 7 saved to output_chunk7.csv\n"
     ]
    },
    {
     "name": "stderr",
     "output_type": "stream",
     "text": [
      "C:\\Users\\sumed\\AppData\\Local\\Temp\\ipykernel_9548\\4116256254.py:7: DtypeWarning: Columns (8,31,32) have mixed types. Specify dtype option on import or set low_memory=False.\n",
      "  for i, chunk in enumerate(csv_reader):\n"
     ]
    },
    {
     "name": "stdout",
     "output_type": "stream",
     "text": [
      "Chunk 8 saved to output_chunk8.csv\n"
     ]
    },
    {
     "name": "stderr",
     "output_type": "stream",
     "text": [
      "C:\\Users\\sumed\\AppData\\Local\\Temp\\ipykernel_9548\\4116256254.py:7: DtypeWarning: Columns (8,20,31,32) have mixed types. Specify dtype option on import or set low_memory=False.\n",
      "  for i, chunk in enumerate(csv_reader):\n"
     ]
    },
    {
     "name": "stdout",
     "output_type": "stream",
     "text": [
      "Chunk 9 saved to output_chunk9.csv\n"
     ]
    },
    {
     "name": "stderr",
     "output_type": "stream",
     "text": [
      "C:\\Users\\sumed\\AppData\\Local\\Temp\\ipykernel_9548\\4116256254.py:7: DtypeWarning: Columns (8,18,20,31,32) have mixed types. Specify dtype option on import or set low_memory=False.\n",
      "  for i, chunk in enumerate(csv_reader):\n"
     ]
    },
    {
     "name": "stdout",
     "output_type": "stream",
     "text": [
      "Chunk 10 saved to output_chunk10.csv\n"
     ]
    }
   ],
   "source": [
    "import pandas as pd\n",
    "def split_large_csv(input_file, output_prefix, chunk_size):\n",
    "    # Initialize a CSV reader object\n",
    "    csv_reader = pd.read_csv(input_file, chunksize=chunk_size)\n",
    "\n",
    "    # Iterate over chunks\n",
    "    for i, chunk in enumerate(csv_reader):\n",
    "        # Save each chunk to a separate CSV file\n",
    "        output_file = f\"{output_prefix}{i + 1}.csv\"\n",
    "        chunk.to_csv(output_file, index=False)\n",
    "        print(f\"Chunk {i + 1} saved to {output_file}\")\n",
    "\n",
    "input_file = \"../311_Service_Requests.csv\"\n",
    "output_prefix = \"output_chunk\"\n",
    "chunk_size = 3450044  # Adjust this based on your requirements\n",
    "\n",
    "split_large_csv(input_file, output_prefix, chunk_size)"
   ]
  },
  {
   "cell_type": "code",
   "execution_count": 2,
   "id": "a63cc3cd-117c-4a60-9a7d-ba2df8d3fddb",
   "metadata": {},
   "outputs": [
    {
     "name": "stderr",
     "output_type": "stream",
     "text": [
      "C:\\Users\\sumed\\AppData\\Local\\Temp\\ipykernel_23368\\439723525.py:7: DtypeWarning: Columns (8) have mixed types. Specify dtype option on import or set low_memory=False.\n",
      "  df = pd.read_csv(csv_file)\n"
     ]
    },
    {
     "name": "stdout",
     "output_type": "stream",
     "text": [
      "Department of Housing Preservation and Development: 1197397\n",
      "Department of Transportation: 531715\n",
      "New York City Police Department: 500408\n",
      "Department of Sanitation: 295742\n",
      "Department of Environmental Protection: 270895\n",
      "Department of Parks and Recreation: 145646\n",
      "Department of Buildings: 141653\n",
      "Department of Health and Mental Hygiene: 79654\n",
      "DHS Advantage Programs: 47958\n",
      "Taxi and Limousine Commission: 39609\n"
     ]
    },
    {
     "name": "stderr",
     "output_type": "stream",
     "text": [
      "C:\\Users\\sumed\\AppData\\Local\\Temp\\ipykernel_23368\\439723525.py:7: DtypeWarning: Columns (8) have mixed types. Specify dtype option on import or set low_memory=False.\n",
      "  df = pd.read_csv(csv_file)\n"
     ]
    },
    {
     "name": "stdout",
     "output_type": "stream",
     "text": [
      "Department of Housing Preservation and Development: 2312825\n",
      "New York City Police Department: 1124377\n",
      "Department of Transportation: 1061753\n",
      "Department of Sanitation: 598015\n",
      "Department of Environmental Protection: 545903\n",
      "Department of Parks and Recreation: 315109\n",
      "Department of Buildings: 275576\n",
      "Department of Health and Mental Hygiene: 167044\n",
      "Taxi and Limousine Commission: 76494\n",
      "Department of Consumer Affairs: 73687\n"
     ]
    },
    {
     "name": "stderr",
     "output_type": "stream",
     "text": [
      "C:\\Users\\sumed\\AppData\\Local\\Temp\\ipykernel_23368\\439723525.py:7: DtypeWarning: Columns (8,31) have mixed types. Specify dtype option on import or set low_memory=False.\n",
      "  df = pd.read_csv(csv_file)\n"
     ]
    },
    {
     "name": "stdout",
     "output_type": "stream",
     "text": [
      "Department of Housing Preservation and Development: 3232025\n",
      "New York City Police Department: 1991383\n",
      "Department of Transportation: 1589470\n",
      "Department of Sanitation: 877132\n",
      "Department of Environmental Protection: 833080\n",
      "Department of Parks and Recreation: 471924\n",
      "Department of Buildings: 399654\n",
      "Department of Health and Mental Hygiene: 258862\n",
      "Taxi and Limousine Commission: 113275\n",
      "Department of Consumer Affairs: 104584\n"
     ]
    },
    {
     "name": "stderr",
     "output_type": "stream",
     "text": [
      "C:\\Users\\sumed\\AppData\\Local\\Temp\\ipykernel_23368\\439723525.py:7: DtypeWarning: Columns (8,31) have mixed types. Specify dtype option on import or set low_memory=False.\n",
      "  df = pd.read_csv(csv_file)\n"
     ]
    },
    {
     "name": "stdout",
     "output_type": "stream",
     "text": [
      "Department of Housing Preservation and Development: 4155009\n",
      "New York City Police Department: 2963956\n",
      "Department of Transportation: 2028739\n",
      "Department of Sanitation: 1158762\n",
      "Department of Environmental Protection: 1110093\n",
      "Department of Parks and Recreation: 594090\n",
      "Department of Buildings: 523129\n",
      "Department of Health and Mental Hygiene: 350002\n",
      "Taxi and Limousine Commission: 149626\n",
      "Department of Consumer Affairs: 130563\n"
     ]
    },
    {
     "name": "stderr",
     "output_type": "stream",
     "text": [
      "C:\\Users\\sumed\\AppData\\Local\\Temp\\ipykernel_23368\\439723525.py:7: DtypeWarning: Columns (8,31) have mixed types. Specify dtype option on import or set low_memory=False.\n",
      "  df = pd.read_csv(csv_file)\n"
     ]
    },
    {
     "name": "stdout",
     "output_type": "stream",
     "text": [
      "Department of Housing Preservation and Development: 4870478\n",
      "New York City Police Department: 4002423\n",
      "Department of Transportation: 2423823\n",
      "Department of Sanitation: 1616966\n",
      "Department of Environmental Protection: 1380247\n",
      "Department of Parks and Recreation: 752774\n",
      "Department of Buildings: 640739\n",
      "Department of Health and Mental Hygiene: 442374\n",
      "Taxi and Limousine Commission: 187979\n",
      "Department of Consumer Affairs: 156341\n"
     ]
    },
    {
     "name": "stderr",
     "output_type": "stream",
     "text": [
      "C:\\Users\\sumed\\AppData\\Local\\Temp\\ipykernel_23368\\439723525.py:7: DtypeWarning: Columns (8,31,32,34,35,36) have mixed types. Specify dtype option on import or set low_memory=False.\n",
      "  df = pd.read_csv(csv_file)\n"
     ]
    },
    {
     "name": "stdout",
     "output_type": "stream",
     "text": [
      "Department of Housing Preservation and Development: 5480487\n",
      "New York City Police Department: 4972657\n",
      "Department of Transportation: 2756321\n",
      "Department of Sanitation: 2145433\n",
      "Department of Environmental Protection: 1602581\n",
      "Department of Buildings: 1069054\n",
      "Department of Parks and Recreation: 882338\n",
      "Department of Health and Mental Hygiene: 520642\n",
      "Taxi and Limousine Commission: 229186\n",
      "Department of Consumer Affairs: 175178\n"
     ]
    },
    {
     "name": "stderr",
     "output_type": "stream",
     "text": [
      "C:\\Users\\sumed\\AppData\\Local\\Temp\\ipykernel_23368\\439723525.py:7: DtypeWarning: Columns (8,31,32) have mixed types. Specify dtype option on import or set low_memory=False.\n",
      "  df = pd.read_csv(csv_file)\n"
     ]
    },
    {
     "name": "stdout",
     "output_type": "stream",
     "text": [
      "New York City Police Department: 6404601\n",
      "Department of Housing Preservation and Development: 5997756\n",
      "Department of Transportation: 3018588\n",
      "Department of Sanitation: 2689102\n",
      "Department of Environmental Protection: 1776980\n",
      "Department of Buildings: 1174907\n",
      "Department of Parks and Recreation: 1048075\n",
      "Department of Health and Mental Hygiene: 587624\n",
      "Taxi and Limousine Commission: 255142\n",
      "Department of Consumer Affairs: 212539\n"
     ]
    },
    {
     "name": "stderr",
     "output_type": "stream",
     "text": [
      "C:\\Users\\sumed\\AppData\\Local\\Temp\\ipykernel_23368\\439723525.py:7: DtypeWarning: Columns (8,31,32) have mixed types. Specify dtype option on import or set low_memory=False.\n",
      "  df = pd.read_csv(csv_file)\n"
     ]
    },
    {
     "name": "stdout",
     "output_type": "stream",
     "text": [
      "New York City Police Department: 7789570\n",
      "Department of Housing Preservation and Development: 6641646\n",
      "Department of Transportation: 3265167\n",
      "Department of Sanitation: 3263614\n",
      "Department of Environmental Protection: 1950252\n",
      "Department of Buildings: 1262698\n",
      "Department of Parks and Recreation: 1153570\n",
      "Department of Health and Mental Hygiene: 667565\n",
      "Taxi and Limousine Commission: 276574\n",
      "Department of Consumer Affairs: 234361\n"
     ]
    },
    {
     "name": "stderr",
     "output_type": "stream",
     "text": [
      "C:\\Users\\sumed\\AppData\\Local\\Temp\\ipykernel_23368\\439723525.py:7: DtypeWarning: Columns (8,20,31,32) have mixed types. Specify dtype option on import or set low_memory=False.\n",
      "  df = pd.read_csv(csv_file)\n"
     ]
    },
    {
     "name": "stdout",
     "output_type": "stream",
     "text": [
      "New York City Police Department: 9319312\n",
      "Department of Housing Preservation and Development: 7339426\n",
      "Department of Sanitation: 3603502\n",
      "Department of Transportation: 3544014\n",
      "Department of Environmental Protection: 2128977\n",
      "Department of Buildings: 1381699\n",
      "Department of Parks and Recreation: 1281111\n",
      "Department of Health and Mental Hygiene: 704502\n",
      "Taxi and Limousine Commission: 307976\n",
      "Department of Consumer Affairs: 262542\n"
     ]
    },
    {
     "name": "stderr",
     "output_type": "stream",
     "text": [
      "C:\\Users\\sumed\\AppData\\Local\\Temp\\ipykernel_23368\\439723525.py:7: DtypeWarning: Columns (8,18,20,31,32) have mixed types. Specify dtype option on import or set low_memory=False.\n",
      "  df = pd.read_csv(csv_file)\n"
     ]
    },
    {
     "name": "stdout",
     "output_type": "stream",
     "text": [
      "New York City Police Department: 10316717\n",
      "Department of Housing Preservation and Development: 8089262\n",
      "Department of Sanitation: 3942202\n",
      "Department of Transportation: 3885611\n",
      "Department of Environmental Protection: 2345237\n",
      "Department of Buildings: 1518036\n",
      "Department of Parks and Recreation: 1449294\n",
      "Department of Health and Mental Hygiene: 851967\n",
      "Taxi and Limousine Commission: 348902\n",
      "Department of Consumer Affairs: 281718\n"
     ]
    }
   ],
   "source": [
    "import pandas as pd\n",
    "total_count = {}\n",
    "for i in range(1, 11):\n",
    "    csv_file = f'output_chunk{i}.csv'\n",
    "\n",
    "    # Read a random sample of 1% of the data\n",
    "    df = pd.read_csv(csv_file)\n",
    "\n",
    "    vc = df[\"Agency Name\"].value_counts().to_dict()\n",
    "\n",
    "    for key, value in vc.items():\n",
    "        total_count[key] = total_count.get(key, 0) + value\n",
    "\n",
    "    # Sort the dictionary items by values in descending order\n",
    "    sorted_items = sorted(total_count.items(), key=lambda x: x[1], reverse=True)\n",
    "\n",
    "    # Print the top 5 values\n",
    "    for key, value in sorted_items[:10]:\n",
    "        print(f\"{key}: {value}\")"
   ]
  }
 ],
 "metadata": {
  "kernelspec": {
   "display_name": "Python 3 (ipykernel)",
   "language": "python",
   "name": "python3"
  },
  "language_info": {
   "codemirror_mode": {
    "name": "ipython",
    "version": 3
   },
   "file_extension": ".py",
   "mimetype": "text/x-python",
   "name": "python",
   "nbconvert_exporter": "python",
   "pygments_lexer": "ipython3",
   "version": "3.11.5"
  }
 },
 "nbformat": 4,
 "nbformat_minor": 5
}
